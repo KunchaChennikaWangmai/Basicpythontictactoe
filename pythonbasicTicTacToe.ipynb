{
 "cells": [
  {
   "cell_type": "code",
   "execution_count": 1,
   "metadata": {},
   "outputs": [
    {
     "data": {
      "text/plain": [
       "[['', 'X', 'O'], ['', '', 'O'], ['O', 'X', '']]"
      ]
     },
     "execution_count": 1,
     "metadata": {},
     "output_type": "execute_result"
    }
   ],
   "source": [
    "Board = [['', 'X', 'O'], ['', '', 'O'], ['O', 'X', '']]\n",
    "\n",
    "Board\n"
   ]
  },
  {
   "cell_type": "code",
   "execution_count": 2,
   "metadata": {},
   "outputs": [
    {
     "name": "stdout",
     "output_type": "stream",
     "text": [
      "['', 'X', 'O'] \n",
      "['', '', 'O'] \n",
      "['O', 'X', ''] \n"
     ]
    },
    {
     "data": {
      "text/plain": [
       "[[0, 1], [0, 2], [1, 2], [2, 0], [2, 1]]"
      ]
     },
     "execution_count": 2,
     "metadata": {},
     "output_type": "execute_result"
    }
   ],
   "source": [
    "def showBoard(Boardd):\n",
    "    lst = []\n",
    "    i = 0\n",
    "    j = 0\n",
    "    for row in Boardd :\n",
    "        i = 0\n",
    "        for col in row:\n",
    "            t = []\n",
    "            if(col!=''):\n",
    "                t.append(j)\n",
    "                t.append(i)\n",
    "                lst.append(t)\n",
    "            i = i +1\n",
    "        print(\"{} \".format(row))\n",
    "        j = j +1\n",
    "    return lst\n",
    "\n",
    "s = showBoard(Board)\n",
    "s"
   ]
  },
  {
   "cell_type": "code",
   "execution_count": 3,
   "metadata": {},
   "outputs": [],
   "source": [
    "def GetInputFromUser(lstt):\n",
    "    inputstring = input(\"Enter row and column number with a space between them provided\\n both of which are positive numbers less than 3 and \\n  are not in the already filled locations which are as follows {}\".format(lstt))\n",
    "    pos = []\n",
    "    flag = 0\n",
    "    lt = inputstring.split(' ')\n",
    "    if(len(lt)== 2):\n",
    "        if(lt[0].isdigit and lt[1].isdigit):\n",
    "            t = int(lt[0])\n",
    "            u = int(lt[1])\n",
    "            if(t<3 and u<3):\n",
    "                if([t,u] not in lstt):\n",
    "                    flag = 1\n",
    "                    pos.append(t)\n",
    "                    pos.append(u)\n",
    "                    flag = 1\n",
    "                else:\n",
    "                    inputstring = input(\"Enter row and column number which are not in the already filled locations which are as follows {}\".format(lstt))\n",
    "                    pass\n",
    "            else:\n",
    "                inputstring = input(\"Enter row and column numbers such that both are < 3\")\n",
    "                pass\n",
    "    else:\n",
    "        print('!!!!!! Enter a valid input\\n')\n",
    "        inputstring = input(\"Enter row and column number with a space between them provided\\n both of which are positive numbers less than 3 and \\n  are not in the already filled locations which are as follows {}\".format(lstt))\n",
    "        pass\n",
    "    while(flag == 0):\n",
    "        lt = inputstring.split(' ')\n",
    "        if(len(lt)== 2):\n",
    "            if(lt[0].isdigit and lt[1].isdigit):\n",
    "                t = int(lt[0])\n",
    "                u = int(lt[1])\n",
    "                if(t<3 and u<3):\n",
    "                    if([t,u] not in lstt):\n",
    "                        flag = 1\n",
    "                        pos.append(t)\n",
    "                        pos.append(u)\n",
    "                        flag = 1\n",
    "                    else:\n",
    "                        inputstring = input(\"Enter row and column number which are not in the already filled locations which are as follows {}\".format(lstt))\n",
    "                        pass\n",
    "                else:\n",
    "                    inputstring = input(\"Enter row and column numbers such that both are < 3\")\n",
    "                    pass\n",
    "            else:\n",
    "                print('!!!!!! Enter a valid input\\n')\n",
    "                inputstring = input(\"Enter row and column number with a space between them provided\\n both of which are positive numbers less than 3 and \\n  are not in the already filled locations which are as follows {}\".format(lstt))\n",
    "                pass\n",
    "        else:\n",
    "            print('!!!!!! Enter a valid input\\n')\n",
    "            inputstring = input(\"Enter row and column number with a space between them provided\\n both of which are positive numbers less than 3 and \\n  are not in the already filled locations which are as follows {}\".format(lstt))\n",
    "            pass\n",
    "    return pos\n",
    "                \n",
    " \n",
    "    "
   ]
  },
  {
   "cell_type": "code",
   "execution_count": 4,
   "metadata": {},
   "outputs": [],
   "source": [
    "\n",
    "def GetPosAndPlace(charToPlace, pos,Boardd):\n",
    "    Boardd[pos[0]][pos[1]] = charToPlace\n",
    "    return Boardd\n"
   ]
  },
  {
   "cell_type": "code",
   "execution_count": 6,
   "metadata": {},
   "outputs": [
    {
     "data": {
      "text/plain": [
       "'noone'"
      ]
     },
     "execution_count": 6,
     "metadata": {},
     "output_type": "execute_result"
    }
   ],
   "source": [
    "\n",
    "def CheckWinner(BTC):\n",
    "    s = 'noone'\n",
    "    for row in BTC:\n",
    "        if(row==['X','X','X']):\n",
    "            s = 'X'\n",
    "            return s\n",
    "        elif(row==['O','O','O']):\n",
    "            s = 'O'\n",
    "            print(\"Caught here!\")\n",
    "            return s\n",
    "        else:\n",
    "            pass\n",
    "    i = 0   \n",
    "    while i<3:\n",
    "        if([BTC[0][i], BTC[1][i], BTC[2][i]]==['X','X','X']):\n",
    "            s = 'X'\n",
    "            return s\n",
    "        elif([BTC[0][i], BTC[1][i], BTC[2][i]]==['O','O','O']):\n",
    "            s = 'O'\n",
    "            return s\n",
    "        else:\n",
    "            pass\n",
    "        i=i+1\n",
    "    \n",
    "    if([BTC[0][0],BTC[1][1],BTC[2][2]]==['X','X','X'] or [BTC[0][2], BTC[1][1], BTC[2][0]]==['X','X','X']):\n",
    "        s = 'X'\n",
    "        return s\n",
    "    elif([BTC[0][0],BTC[1][1],BTC[2][2]]==['O','O','O'] or [BTC[0][2], BTC[1][1], BTC[2][0]]==['O','O','O']):\n",
    "        s = 'O'\n",
    "        return s\n",
    "    else:\n",
    "        pass\n",
    "        \n",
    "    return s\n",
    "CheckWinner(Board)"
   ]
  },
  {
   "cell_type": "code",
   "execution_count": 7,
   "metadata": {},
   "outputs": [],
   "source": [
    "def tictactoegame():\n",
    "    pos = []\n",
    "    CW = ''\n",
    "    Board1 = [['', '', ''], ['', '', ''], ['', '', '']]\n",
    "    Board = [['', '', ''], ['', '', ''], ['', '', '']]\n",
    "    winconditions = [[[0,0],[1,0],[2,0]], [[0,1],[1,1],[2,1]], [[0,2],[1,2],[2,2]], [[0,0],[1,1],[2,2]], [[0,2],[1,1],[2,0]]]\n",
    "    flag = 0\n",
    "    player1 = ''\n",
    "    player2 = ''\n",
    "    print(\"Welcome to tic tac toe game!!!!\\n\")\n",
    "    print(\"Player 1 choose a character in 'X' or 'O'\")\n",
    "    inputstring = input()\n",
    "    if(len(inputstring)==1):\n",
    "        if(inputstring == 'X' or inputstring == 'O'):\n",
    "            player1 = inputstring\n",
    "            if(player1=='X'):\n",
    "                player2 ='O'\n",
    "            else:\n",
    "                player2 ='X'\n",
    "            flag = 1\n",
    "        else:\n",
    "            inputstring = input(\"Enter either 'X' or 'O'\")\n",
    "            pass\n",
    "    else:\n",
    "        inputstring = input(\"!!!! Enter a character either 'X' or 'O'\")\n",
    "        \n",
    "    while(flag == 0):\n",
    "        if(len(inputstring)==1):\n",
    "            if(inputstring == 'X' or inputstring == 'O'):\n",
    "                player1 = inputstring\n",
    "                if(player1=='X'):\n",
    "                    player2 ='O'\n",
    "                else:\n",
    "                    player2 ='X'\n",
    "                flag = 1\n",
    "            else:\n",
    "                inputstring = input(\"Enter either 'X' or 'O'\")\n",
    "                pass\n",
    "        else:\n",
    "            inputstring = input(\"!!!! Enter a character either 'X' or 'O'\")\n",
    "            pass\n",
    "    print(\"The board is as follows: \\n\")\n",
    "    occupiedPos = showBoard(Board)\n",
    "    print(\"Player 1 enter the position where you want to \")\n",
    "    while(len(occupiedPos)<10):\n",
    "        print(\"Player 1 enter the position where you want to mark \")\n",
    "        pos = GetInputFromUser(occupiedPos)\n",
    "        Board = GetPosAndPlace(player1, pos,Board1)\n",
    "        print(\"The board is as follows: \\n\")\n",
    "        Board1 = Board\n",
    "        occupiedPos = showBoard(Board)\n",
    "        CW = CheckWinner(Board)\n",
    "        if(CW == player1 ):\n",
    "            print(\"Hurrayy!! PLayer 1 is the winner\")\n",
    "            break\n",
    "        else:\n",
    "            pass\n",
    "        print(\"Player 2 enter the position where you want to mark \")\n",
    "        pos = GetInputFromUser(occupiedPos)\n",
    "        Board = GetPosAndPlace(player2, pos,Board1)\n",
    "        print(\"The board is as follows: \\n\")\n",
    "        Board1 = Board\n",
    "        occupiedPos = showBoard(Board)\n",
    "        CW = CheckWinner(Board)\n",
    "        if(CW == player2 ):\n",
    "            print(\"Hurrayy!! PLayer 2 is the winner\")\n",
    "            break;\n",
    "        else:\n",
    "            pass\n",
    "    \n",
    "    inputanothergame = input(\"Enter 'Y' if u want to play another game or 'N' if you want to end it:\")\n",
    "    if(inputanothergame == 'Y'):\n",
    "        tictactoegame()\n",
    "    else:\n",
    "        pass\n",
    "    "
   ]
  },
  {
   "cell_type": "code",
   "execution_count": 8,
   "metadata": {},
   "outputs": [
    {
     "name": "stdout",
     "output_type": "stream",
     "text": [
      "Welcome to tic tac toe game!!!!\n",
      "\n",
      "Player 1 choose a character in 'X' or 'O'\n",
      "O\n",
      "The board is as follows: \n",
      "\n",
      "['', '', ''] \n",
      "['', '', ''] \n",
      "['', '', ''] \n",
      "Player 1 enter the position where you want to \n",
      "Player 1 enter the position where you want to mark \n",
      "Enter row and column number with a space between them provided\n",
      " both of which are positive numbers less than 3 and \n",
      "  are not in the already filled locations which are as follows []1 1\n",
      "The board is as follows: \n",
      "\n",
      "['', '', ''] \n",
      "['', 'O', ''] \n",
      "['', '', ''] \n",
      "Player 2 enter the position where you want to mark \n",
      "Enter row and column number with a space between them provided\n",
      " both of which are positive numbers less than 3 and \n",
      "  are not in the already filled locations which are as follows [[1, 1]]2 2\n",
      "The board is as follows: \n",
      "\n",
      "['', '', ''] \n",
      "['', 'O', ''] \n",
      "['', '', 'X'] \n",
      "Player 1 enter the position where you want to mark \n",
      "Enter row and column number with a space between them provided\n",
      " both of which are positive numbers less than 3 and \n",
      "  are not in the already filled locations which are as follows [[1, 1], [2, 2]]2 1\n",
      "The board is as follows: \n",
      "\n",
      "['', '', ''] \n",
      "['', 'O', ''] \n",
      "['', 'O', 'X'] \n",
      "Player 2 enter the position where you want to mark \n",
      "Enter row and column number with a space between them provided\n",
      " both of which are positive numbers less than 3 and \n",
      "  are not in the already filled locations which are as follows [[1, 1], [2, 1], [2, 2]]1 2\n",
      "The board is as follows: \n",
      "\n",
      "['', '', ''] \n",
      "['', 'O', 'X'] \n",
      "['', 'O', 'X'] \n",
      "Player 1 enter the position where you want to mark \n",
      "Enter row and column number with a space between them provided\n",
      " both of which are positive numbers less than 3 and \n",
      "  are not in the already filled locations which are as follows [[1, 1], [1, 2], [2, 1], [2, 2]]0 1\n",
      "The board is as follows: \n",
      "\n",
      "['', 'O', ''] \n",
      "['', 'O', 'X'] \n",
      "['', 'O', 'X'] \n",
      "Hurrayy!! PLayer 1 is the winner\n",
      "Enter 'Y' if u want to play another game or 'N' if you want to end it:N\n"
     ]
    }
   ],
   "source": [
    "tictactoegame()"
   ]
  },
  {
   "cell_type": "code",
   "execution_count": null,
   "metadata": {},
   "outputs": [],
   "source": []
  }
 ],
 "metadata": {
  "kernelspec": {
   "display_name": "Python 3",
   "language": "python",
   "name": "python3"
  },
  "language_info": {
   "codemirror_mode": {
    "name": "ipython",
    "version": 3
   },
   "file_extension": ".py",
   "mimetype": "text/x-python",
   "name": "python",
   "nbconvert_exporter": "python",
   "pygments_lexer": "ipython3",
   "version": "3.7.6"
  }
 },
 "nbformat": 4,
 "nbformat_minor": 4
}
